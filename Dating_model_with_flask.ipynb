{
  "nbformat": 4,
  "nbformat_minor": 0,
  "metadata": {
    "colab": {
      "provenance": [],
      "authorship_tag": "ABX9TyOq19y2IgOq3M0/QT1xnKsv",
      "include_colab_link": true
    },
    "kernelspec": {
      "name": "python3",
      "display_name": "Python 3"
    },
    "language_info": {
      "name": "python"
    },
    "gpuClass": "standard"
  },
  "cells": [
    {
      "cell_type": "markdown",
      "metadata": {
        "id": "view-in-github",
        "colab_type": "text"
      },
      "source": [
        "<a href=\"https://colab.research.google.com/github/Iana9/DS/blob/main/Dating_model_with_flask.ipynb\" target=\"_parent\"><img src=\"https://colab.research.google.com/assets/colab-badge.svg\" alt=\"Open In Colab\"/></a>"
      ]
    },
    {
      "cell_type": "code",
      "source": [
        "!pip install scikit-surprise\n",
        "from surprise import Dataset, Reader, SVD\n",
        "from surprise.accuracy import rmse\n",
        "from hyperopt import hp, fmin, Trials, tpe\n",
        "from surprise.model_selection import train_test_split\n",
        "import pandas as pd\n",
        "import numpy as np\n",
        "import pickle\n",
        "import seaborn as sns\n",
        "import matplotlib.pyplot as plt\n",
        "from tabulate import tabulate\n",
        "import os\n",
        "pd.set_option('display.float_format', lambda x: '%.3f' % x)"
      ],
      "metadata": {
        "id": "ZkUE9c1aKX_i",
        "colab": {
          "base_uri": "https://localhost:8080/"
        },
        "outputId": "bdaed998-1541-43d3-a3b7-ccda31136829"
      },
      "execution_count": null,
      "outputs": [
        {
          "output_type": "stream",
          "name": "stdout",
          "text": [
            "Looking in indexes: https://pypi.org/simple, https://us-python.pkg.dev/colab-wheels/public/simple/\n",
            "Requirement already satisfied: scikit-surprise in /usr/local/lib/python3.10/dist-packages (1.1.3)\n",
            "Requirement already satisfied: joblib>=1.0.0 in /usr/local/lib/python3.10/dist-packages (from scikit-surprise) (1.2.0)\n",
            "Requirement already satisfied: numpy>=1.17.3 in /usr/local/lib/python3.10/dist-packages (from scikit-surprise) (1.22.4)\n",
            "Requirement already satisfied: scipy>=1.3.2 in /usr/local/lib/python3.10/dist-packages (from scikit-surprise) (1.10.1)\n"
          ]
        }
      ]
    },
    {
      "cell_type": "code",
      "source": [
        "class model_surp():\n",
        "    \"\"\"\n",
        "    Описание\n",
        "    --------\n",
        "    Класс для создания объектра рекомендательной системы\n",
        "\n",
        "    Атрибуты\n",
        "    --------\n",
        "    pkl_filename : str\n",
        "        путь/файл для сохранения модели\n",
        "\n",
        "    Методы\n",
        "    -------\n",
        "    load_data(path=\"/content/rec-libimseti-dir.edges\"):\n",
        "        метод для загрузки данных из указанного пути\n",
        "    show_set():\n",
        "        метод для создания дестрибуции на датасете\n",
        "    create_model(cut_users = 150, cut_items = 20)\n",
        "        метод для обучения модели\n",
        "    recommened(rec=)\n",
        "        метод для рекомендации для user_id\n",
        "    \"\"\"\n",
        "    def __init__(self, file_name : str = \"pickle_model.pkl\"):\n",
        "        self.pkl_filename = file_name\n",
        "        self.reader = Reader(rating_scale=(1, 10)) # Зададим разброс оценок\n",
        "        self.rate = None\n",
        "        self.model = self.find_model()\n",
        "\n",
        "    def find_model(self):\n",
        "        \"\"\"\n",
        "        Описание\n",
        "        --------\n",
        "        Метод для использования уже обученной модели, если она находится по атрибуту pkl_filename\n",
        "        \"\"\"\n",
        "        if os.path.exists(self.pkl_filename):\n",
        "            while True:\n",
        "                answer = input(f\"Model was found in {self.pkl_filename}. Do you want to use it?[y/n]\")\n",
        "                if answer.isalpha() and answer.lower().replace(\" \", \"\") in ['y', 'yes']:\n",
        "                    return self.__open_model()\n",
        "                elif answer.isalpha() and answer.lower().replace(\" \", \"\") in ['n', 'no']:\n",
        "                    return None\n",
        "                else:\n",
        "                    print(f\"Don't get your answer {answer}. Please try again.\")\n",
        "                    continue\n",
        "        else:\n",
        "            return None\n",
        "\n",
        "    def __open_model(self):\n",
        "        with open(self.pkl_filename, 'rb') as file:\n",
        "            return pickle.load(file)\n",
        "\n",
        "    def load_data(self, path: str = \"/content/rec-libimseti-dir.edges\"):\n",
        "        \"\"\"\n",
        "        Описание\n",
        "        ---------\n",
        "        Метод для считывания данных и приводения их в формат для использования модулем surprise\n",
        "\n",
        "        Атрибуты\n",
        "        ---------\n",
        "        path : str\n",
        "          путь к файлу с данными для обучения\n",
        "        \"\"\"\n",
        "\n",
        "        self.rate = pd.read_csv(path,\n",
        "                                delim_whitespace=True,\n",
        "                                skiprows=1,\n",
        "                                names=[\"id_from\", \"id_to\", \"rating\"])\n",
        "        self.rate.columns = ['userID', 'itemID', 'rating']\n",
        "        self.rate.dropna(inplace=True)\n",
        "\n",
        "    def show_set(self):\n",
        "        \"\"\"\n",
        "        Описание\n",
        "        --------\n",
        "        Метод для создания 3 субплотов распределения по данным: по оценкам, по лайкнувшим пользователям\n",
        "        и по лайкнутым пользователям\n",
        "        \"\"\"\n",
        "\n",
        "        fig, axs = plt.subplots(nrows=3, figsize=(8, 8))\n",
        "        for num, func in enumerate([self.__rating_destribution, self.__user_destribution, self.__item_destribution]):\n",
        "            func(axs[num])\n",
        "        fig.tight_layout()\n",
        "\n",
        "    def __rating_destribution(self, ax: plt.Axes):\n",
        "        ax = sns.histplot(self.rate['rating'], bins=10, stat=\"percent\", ax=ax)\n",
        "        ax.set(xticks=self.rate.rating.unique())\n",
        "        ax.set_xlabel(\"Рейтинг\")\n",
        "        ax.set_ylabel(\"Количество оценок, %\");\n",
        "\n",
        "    def __user_destribution(self, ax: plt.Axes):\n",
        "        data = self.rate.groupby('userID')['rating'].count().sort_values().clip(upper=1000).reset_index()\n",
        "        ax = sns.histplot(data, x=data.rating, log_scale=True, ax=ax)\n",
        "        ax.set_xlabel(\"Количество оценок от пользователя\")\n",
        "        ax.set_ylabel(\"Количество пользователей\");\n",
        "\n",
        "    def __item_destribution(self, ax: plt.Axes):\n",
        "        data = self.rate.groupby('itemID')['rating'].count().sort_values().clip(upper=200).reset_index()\n",
        "        ax = sns.histplot(data, x=data.rating, log_scale=True, ax=ax)\n",
        "        ax.set_xlabel(\"Количество оценок у пользователя\")\n",
        "        ax.set_ylabel(\"Количество пользователей\");\n",
        "\n",
        "    def create_model(self, cut_users: int = 400, cut_items: int = 60):\n",
        "        \"\"\"\n",
        "        Описание\n",
        "        ---------\n",
        "        Метод для обучения модели на обработанных данных\n",
        "\n",
        "        Параметры\n",
        "        ----------\n",
        "        cut_users : int\n",
        "            убрать пользователей, который поставил оценок меньше указанного параметра\n",
        "        cut_items : int\n",
        "            убрать пользователей, который получил оценок меньше указанного параметра\n",
        "        \"\"\"\n",
        "\n",
        "        self.model = None\n",
        "        print(\"User description:\", end='\\n')\n",
        "        print(tabulate(self.rate['userID'].value_counts().describe().reset_index(), headers='keys', tablefmt='psql', showindex=False, numalign=\"right\"))\n",
        "        print(\"Item description:\\n\", end='\\n')\n",
        "        print(tabulate(self.rate['itemID'].value_counts().describe().reset_index(), headers='keys', tablefmt='psql', showindex=False, numalign=\"right\"))\n",
        "        cut_users = int(input(\"Cut users by rating count:\") or cut_users)\n",
        "        cut_items = int(input(\"Cut item by rating count:\") or cut_items)\n",
        "        df = self.rate\n",
        "        filter_items = df['itemID'].value_counts() > cut_items\n",
        "        filter_items = filter_items[filter_items].index.tolist()\n",
        "\n",
        "        filter_users = df['userID'].value_counts() > cut_users\n",
        "        filter_users = filter_users[filter_users].index.tolist()\n",
        "        df = df[(df['itemID'].isin(filter_items)) & (df['userID'].isin(filter_users))]\n",
        "        print(f\"Remaining rows in set: {df.shape[0]}\")\n",
        "        self.trainset, self.testset = train_test_split(\n",
        "                                                      Dataset.load_from_df(df[['userID', 'itemID', 'rating']], self.reader),\n",
        "                                                      test_size=0.25)\n",
        "        max_evals = 30\n",
        "        space = {\n",
        "            \"n_factors\" : hp.randint('k', 1, 50),\n",
        "            \"n_epochs\" : hp.randint('n_epochs', 1, 20),\n",
        "            \"reg_pu\" : hp.uniform('reg_u', 0.001, 1),\n",
        "            \"reg_qi\" : hp.uniform('reg_i',  0.001, 1)\n",
        "        }\n",
        "        trials = Trials()\n",
        "        best=fmin(fn=self.__train_rmse, # оптимизируемая функция\n",
        "                  space=space, \n",
        "                  algo=tpe.suggest, # алгоритм оптимизации, hyperotp выберет свои параметры автоматически\n",
        "                  max_evals=max_evals, # максимальное количество итераций\n",
        "                  trials=trials)\n",
        "        self.__train_fulland_save(best)\n",
        "        del self.trainset, self.testset\n",
        "\n",
        "    def __train_rmse(self, params: dict):\n",
        "        params = {\n",
        "            \"n_factors\" : int(params[\"n_factors\"]),\n",
        "            \"n_epochs\" : int(params[\"n_epochs\"]),\n",
        "            \"reg_pu\" : params[\"reg_pu\"],\n",
        "            'reg_qi' : params['reg_qi']\n",
        "        }\n",
        "\n",
        "        model = SVD(**params)\n",
        "        model = model.fit(self.trainset)\n",
        "        predictions = model.test(self.testset)\n",
        "        return rmse(predictions)\n",
        "\n",
        "    def __train_fulland_save(self, params: dict):\n",
        "        data = Dataset.load_from_df(self.rate[['userID', 'itemID', 'rating']], self.reader) #создадим объект, с которым умеет работать библиотека\n",
        "        params = {\n",
        "            \"n_factors\" : int(params[\"k\"]),\n",
        "            \"n_epochs\" : int(params[\"n_epochs\"]),\n",
        "            \"reg_pu\" : params[\"reg_u\"],\n",
        "            'reg_qi' : params['reg_i']\n",
        "        }\n",
        "        model = SVD(**params)\n",
        "        model.fit(data.build_full_trainset())\n",
        "        with open(self.pkl_filename, 'wb') as file:\n",
        "            pickle.dump(model, file)\n",
        "\n",
        "    def recommened(self, rec: int):\n",
        "        \"\"\"\n",
        "        Описание\n",
        "        --------\n",
        "        1. Рекомендация 10 пользователей, которого указанный пользователь лайкнет\n",
        "        2. Пользователи, которые лайкнут указанного пользователя в ответ\n",
        "\n",
        "        Параметры\n",
        "        ---------\n",
        "        rec : int\n",
        "            id пользователя для рекомендации\n",
        "        \"\"\"\n",
        "\n",
        "        if not self.model:\n",
        "            self.model = self.__open_model()\n",
        "\n",
        "        iid = self.rate[\"itemID\"].unique()\n",
        "        recom = self.rate.loc[self.rate.userID == rec, 'itemID']\n",
        "        iids_to_pred = np.setdiff1d(iid, recom)\n",
        "\n",
        "        testset = [[rec, iid, 5.] for iid in iids_to_pred]\n",
        "        predictions1 = self.model.test(testset)\n",
        "        pred_ratings1 = np.array([pred.est for pred in predictions1])             \n",
        "\n",
        "        testset = [[iid, rec, 5.] for iid in iids_to_pred]\n",
        "        predictions2 = self.model.test(testset)\n",
        "        pred_ratings2 = np.array([pred.est for pred in predictions2]) \n",
        "        mutual_likes = np.logical_and(np.array(pred_ratings1) >= 6, np.array(pred_ratings2) >= 6)\n",
        "        cut_mutual = 10 if mutual_likes.sum() > 10 else mutual_likes.sum()\n",
        "        return f\"Recommendation for user {rec}: {', '.join(map(str, np.array(iids_to_pred)[np.argpartition(np.array(pred_ratings1), -10)[-10:]]))}\",\\\n",
        "               f\"\"\"Mutual likes of user {rec}: {', '.join(map(str, np.array(iids_to_pred)[np.argpartition(np.where(mutual_likes == False, \n",
        "                                                                                               0, \n",
        "                                                                                               np.array(pred_ratings2)), -cut_mutual)[-cut_mutual:]]))}\"\"\""
      ],
      "metadata": {
        "id": "TtpA-AGpuc8L"
      },
      "execution_count": null,
      "outputs": []
    },
    {
      "cell_type": "code",
      "source": [
        "print(model_surp.__doc__)\n",
        "m = model_surp()"
      ],
      "metadata": {
        "colab": {
          "base_uri": "https://localhost:8080/"
        },
        "id": "oIO1rLSq-J2v",
        "outputId": "63e605a6-1190-4ede-98ae-425bb01cddd2"
      },
      "execution_count": 7,
      "outputs": [
        {
          "name": "stdout",
          "output_type": "stream",
          "text": [
            "\n",
            "    Описание\n",
            "    --------\n",
            "    Класс для создания объектра рекомендательной системы\n",
            "\n",
            "    Атрибуты\n",
            "    --------\n",
            "    pkl_filename : str\n",
            "        путь/файл для сохранения модели\n",
            "\n",
            "    Методы\n",
            "    -------\n",
            "    load_data(path=\"/content/rec-libimseti-dir.edges\"):\n",
            "        метод для загрузки данных из указанного пути\n",
            "    show_set():\n",
            "        метод для создания дестрибуции на датасете\n",
            "    create_model(cut_users = 150, cut_items = 20)\n",
            "        метод для обучения модели\n",
            "    recommened(rec=)\n",
            "        метод для рекомендации для user_id\n",
            "    \n",
            "Model was found in pickle_model.pkl. Do you want to use it?[y/n]y\n"
          ]
        }
      ]
    },
    {
      "cell_type": "code",
      "source": [
        "print(m.load_data.__doc__)\n",
        "m.load_data()"
      ],
      "metadata": {
        "id": "WnPHXn3K1nHe",
        "colab": {
          "base_uri": "https://localhost:8080/"
        },
        "outputId": "0c74aa1c-0c3b-4663-e18b-1cd9b5215ba4"
      },
      "execution_count": 9,
      "outputs": [
        {
          "output_type": "stream",
          "name": "stdout",
          "text": [
            "\n",
            "        Описание\n",
            "        ---------\n",
            "        Метод для считывания данных и приводения их в формат для использования модулем surprise\n",
            "\n",
            "        Атрибуты\n",
            "        ---------\n",
            "        path : str\n",
            "          путь к файлу с данными для обучения\n",
            "        \n"
          ]
        }
      ]
    },
    {
      "cell_type": "code",
      "source": [
        "print(m.show_set.__doc__)\n",
        "m.show_set()"
      ],
      "metadata": {
        "colab": {
          "base_uri": "https://localhost:8080/",
          "height": 911
        },
        "id": "Wwm_rgCZErdY",
        "outputId": "8ce03446-c856-42c4-f438-674a93784936"
      },
      "execution_count": null,
      "outputs": [
        {
          "output_type": "stream",
          "name": "stdout",
          "text": [
            "\n",
            "        Описание\n",
            "        --------\n",
            "        Метод для создания 3 субплотов распределения по данным: по оценкам, по лайкнувшим пользователям\n",
            "        и по лайкнутым пользователям\n",
            "        \n"
          ]
        },
        {
          "output_type": "display_data",
          "data": {
            "text/plain": [
              "<Figure size 800x800 with 3 Axes>"
            ],
            "image/png": "[encoded data removed]"
          },
          "metadata": {}
        }
      ]
    },
    {
      "cell_type": "code",
      "source": [
        "print(m.create_model.__doc__)\n",
        "m.create_model()"
      ],
      "metadata": {
        "colab": {
          "base_uri": "https://localhost:8080/"
        },
        "id": "TT1RI1oU1scG",
        "outputId": "2eb4dd9a-eed1-44c8-ae07-9df73adb0ea2"
      },
      "execution_count": 5,
      "outputs": [
        {
          "output_type": "stream",
          "name": "stdout",
          "text": [
            "\n",
            "        Описание\n",
            "        ---------\n",
            "        Метод для обучения модели на обработанных данных\n",
            "\n",
            "        Параметры\n",
            "        ----------\n",
            "        cut_users : int\n",
            "            убрать пользователей, который поставил оценок меньше указанного параметра\n",
            "        cut_items : int\n",
            "            убрать пользователей, который получил оценок меньше указанного параметра\n",
            "        \n",
            "User description:\n",
            "+---------+----------+\n",
            "| index   |   userID |\n",
            "|---------+----------|\n",
            "| count   |   135359 |\n",
            "| mean    |  128.247 |\n",
            "| std     |  378.413 |\n",
            "| min     |       20 |\n",
            "| 25%     |       29 |\n",
            "| 50%     |       73 |\n",
            "| 75%     |      124 |\n",
            "| max     |    25042 |\n",
            "+---------+----------+\n",
            "Item description:\n",
            "\n",
            "+---------+----------+\n",
            "| index   |   itemID |\n",
            "|---------+----------|\n",
            "| count   |   168791 |\n",
            "| mean    |  102.845 |\n",
            "| std     |  413.712 |\n",
            "| min     |        1 |\n",
            "| 25%     |        3 |\n",
            "| 50%     |       17 |\n",
            "| 75%     |       76 |\n",
            "| max     |    33389 |\n",
            "+---------+----------+\n",
            "Cut users by rating count:\n",
            "Cut item by rating count:\n",
            "Remaining rows in set: 5136388\n",
            "RMSE: 2.0530\n",
            "RMSE: 2.1032\n",
            "RMSE: 2.1285\n",
            "RMSE: 2.0530\n",
            "RMSE: 1.9033\n",
            "RMSE: 2.0333\n",
            "RMSE: 2.0741\n",
            "RMSE: 2.1288\n",
            "RMSE: 2.0357\n",
            "RMSE: 2.0301\n",
            "RMSE: 1.9024\n",
            "RMSE: 2.0309\n",
            "RMSE: 2.0392\n",
            "RMSE: 2.0300\n",
            "RMSE: 2.0342\n",
            "RMSE: 1.9391\n",
            "RMSE: 2.0283\n",
            "RMSE: 2.0069\n",
            "RMSE: 1.8754\n",
            "RMSE: 2.0122\n",
            "RMSE: 2.1119\n",
            "RMSE: 1.9428\n",
            "RMSE: 2.0568\n",
            "RMSE: 1.9122\n",
            "RMSE: 2.0325\n",
            "RMSE: 2.3335\n",
            "RMSE: 1.9243\n",
            "RMSE: 1.8778\n",
            "RMSE: 1.8568\n",
            "RMSE: 1.8791\n",
            "100%|██████████| 30/30 [28:54<00:00, 57.81s/trial, best loss: 1.85680617391395]\n"
          ]
        }
      ]
    },
    {
      "cell_type": "code",
      "source": [
        "print(m.recommened.__doc__)\n",
        "for i in [98447, 111944, 111930, 82091, 125299, 125298, 17335, 60356]:\n",
        "    print(\"\\n\".join(m.recommened(i)), end=\"\\n\"+\"-\"*175+\"\\n\")"
      ],
      "metadata": {
        "id": "Q5ad6bQ3Bk-L",
        "colab": {
          "base_uri": "https://localhost:8080/"
        },
        "outputId": "1d5897fd-d29c-460e-a51a-357aadbfcaaf"
      },
      "execution_count": 10,
      "outputs": [
        {
          "output_type": "stream",
          "name": "stdout",
          "text": [
            "\n",
            "        Описание\n",
            "        --------\n",
            "        1. Рекомендация 10 пользователей, которого указанный пользователь лайкнет\n",
            "        2. Пользователи, которые лайкнут указанного пользователя в ответ\n",
            "\n",
            "        Параметры\n",
            "        ---------\n",
            "        rec : int\n",
            "            id пользователя для рекомендации\n",
            "        \n",
            "Recommendation for user 98447: 75391, 188337, 151000, 61968, 201540, 22319, 165800, 124953, 159740, 44232\n",
            "Mutual likes of user 98447: 9276, 65602, 75169, 60973, 95059, 78136, 23912, 105176, 36408, 73705\n",
            "-------------------------------------------------------------------------------------------------------------------------------------------------------------------------------\n",
            "Recommendation for user 111944: 75815, 47802, 53134, 135081, 148812, 206737, 122775, 173752, 179800, 167929\n",
            "Mutual likes of user 111944: 153682, 153680, 45984, 45981, 45986, 153681, 153685, 153683, 153684, 136584\n",
            "-------------------------------------------------------------------------------------------------------------------------------------------------------------------------------\n",
            "Recommendation for user 111930: 160782, 66737, 214508, 169842, 134138, 49422, 3318, 166122, 65239, 50895\n",
            "Mutual likes of user 111930: 15858, 60973, 95755, 95059, 101100, 90765, 105176, 73705, 120219, 36408\n",
            "-------------------------------------------------------------------------------------------------------------------------------------------------------------------------------\n",
            "Recommendation for user 82091: 124865, 68092, 61789, 163115, 185949, 66737, 169910, 169457, 201540, 107820\n",
            "Mutual likes of user 82091: 22877, 9276, 65602, 78136, 73705, 23912, 105176, 75169, 36408, 95059\n",
            "-------------------------------------------------------------------------------------------------------------------------------------------------------------------------------\n",
            "Recommendation for user 125299: 25219, 179800, 214508, 92921, 32232, 169457, 163115, 201540, 126620, 107820\n",
            "Mutual likes of user 125299: 81073, 66604, 95059, 22877, 9276, 79937, 73705, 65602, 75169, 131393\n",
            "-------------------------------------------------------------------------------------------------------------------------------------------------------------------------------\n",
            "Recommendation for user 125298: 87264, 121312, 141949, 50790, 25790, 59759, 6649, 92460, 59755, 10125\n",
            "Mutual likes of user 125298: 105183, 60973, 23912, 90765, 119980, 73705, 36408, 8294, 101100, 120219\n",
            "-------------------------------------------------------------------------------------------------------------------------------------------------------------------------------\n",
            "Recommendation for user 17335: 109557, 137569, 19537, 11597, 39859, 39854, 120975, 46717, 197880, 130095\n",
            "Mutual likes of user 17335: 60973, 95059, 73705, 101100, 119980, 8294, 66897, 120219, 60617, 36408\n",
            "-------------------------------------------------------------------------------------------------------------------------------------------------------------------------------\n",
            "Recommendation for user 60356: 203303, 70359, 124865, 212025, 205501, 107820, 90358, 201540, 140094, 66737\n",
            "Mutual likes of user 60356: 28055, 65602, 23912, 77220, 75169, 119980, 73705, 36408, 79937, 95059\n",
            "-------------------------------------------------------------------------------------------------------------------------------------------------------------------------------\n"
          ]
        }
      ]
    },
    {
      "cell_type": "code",
      "source": [
        "!pip install flask-ngrok"
      ],
      "metadata": {
        "id": "XcUKNabQnxG2",
        "colab": {
          "base_uri": "https://localhost:8080/"
        },
        "outputId": "cb76a35d-7735-4ab4-9857-77577686e552"
      },
      "execution_count": null,
      "outputs": [
        {
          "output_type": "stream",
          "name": "stdout",
          "text": [
            "Looking in indexes: https://pypi.org/simple, https://us-python.pkg.dev/colab-wheels/public/simple/\n",
            "Requirement already satisfied: flask-ngrok in /usr/local/lib/python3.9/dist-packages (0.0.25)\n",
            "Requirement already satisfied: requests in /usr/local/lib/python3.9/dist-packages (from flask-ngrok) (2.27.1)\n",
            "Requirement already satisfied: Flask>=0.8 in /usr/local/lib/python3.9/dist-packages (from flask-ngrok) (2.2.3)\n",
            "Requirement already satisfied: click>=8.0 in /usr/local/lib/python3.9/dist-packages (from Flask>=0.8->flask-ngrok) (8.1.3)\n",
            "Requirement already satisfied: Werkzeug>=2.2.2 in /usr/local/lib/python3.9/dist-packages (from Flask>=0.8->flask-ngrok) (2.2.3)\n",
            "Requirement already satisfied: importlib-metadata>=3.6.0 in /usr/local/lib/python3.9/dist-packages (from Flask>=0.8->flask-ngrok) (6.6.0)\n",
            "Requirement already satisfied: Jinja2>=3.0 in /usr/local/lib/python3.9/dist-packages (from Flask>=0.8->flask-ngrok) (3.1.2)\n",
            "Requirement already satisfied: itsdangerous>=2.0 in /usr/local/lib/python3.9/dist-packages (from Flask>=0.8->flask-ngrok) (2.1.2)\n",
            "Requirement already satisfied: charset-normalizer~=2.0.0 in /usr/local/lib/python3.9/dist-packages (from requests->flask-ngrok) (2.0.12)\n",
            "Requirement already satisfied: certifi>=2017.4.17 in /usr/local/lib/python3.9/dist-packages (from requests->flask-ngrok) (2022.12.7)\n",
            "Requirement already satisfied: urllib3<1.27,>=1.21.1 in /usr/local/lib/python3.9/dist-packages (from requests->flask-ngrok) (1.26.15)\n",
            "Requirement already satisfied: idna<4,>=2.5 in /usr/local/lib/python3.9/dist-packages (from requests->flask-ngrok) (3.4)\n",
            "Requirement already satisfied: zipp>=0.5 in /usr/local/lib/python3.9/dist-packages (from importlib-metadata>=3.6.0->Flask>=0.8->flask-ngrok) (3.15.0)\n",
            "Requirement already satisfied: MarkupSafe>=2.0 in /usr/local/lib/python3.9/dist-packages (from Jinja2>=3.0->Flask>=0.8->flask-ngrok) (2.1.2)\n"
          ]
        }
      ]
    },
    {
      "cell_type": "code",
      "source": [
        "from flask_ngrok import run_with_ngrok\n",
        "from flask import Flask, request, render_template\n",
        "!ngrok authtoken #authtoken"
      ],
      "metadata": {
        "id": "ZhCnaPzACn5Y",
        "colab": {
          "base_uri": "https://localhost:8080/"
        },
        "outputId": "2d048039-b4fb-4240-b6ca-03dba1db7d9c"
      },
      "execution_count": null,
      "outputs": [
        {
          "output_type": "stream",
          "name": "stdout",
          "text": [
            "Authtoken saved to configuration file: /root/.ngrok2/ngrok.yml\n"
          ]
        }
      ]
    },
    {
      "cell_type": "code",
      "source": [
        "app = Flask(__name__)\n",
        "run_with_ngrok(app)\n",
        "\n",
        "@app.route('/')\n",
        "def home():\n",
        "    return render_template('index.html')\n",
        "\n",
        "@app.route('/recommend', methods=['POST'])\n",
        "def recommend():\n",
        "    input = [int(x) for x in request.form.values()]\n",
        "    prediction = m.recommened(*input)\n",
        "\n",
        "    return render_template('index.html', output1=f\"{prediction[0]}\", output2=f\"{prediction[1]}\")\n",
        "\n",
        "app.run()"
      ],
      "metadata": {
        "id": "68AQ85k4DEof",
        "colab": {
          "base_uri": "https://localhost:8080/"
        },
        "outputId": "16ae2482-024a-448e-f372-e7e3e497e2cd"
      },
      "execution_count": null,
      "outputs": [
        {
          "output_type": "stream",
          "name": "stdout",
          "text": [
            " * Serving Flask app '__main__'\n",
            " * Debug mode: off\n"
          ]
        },
        {
          "output_type": "stream",
          "name": "stderr",
          "text": [
            "INFO:werkzeug:\u001b[31m\u001b[1mWARNING: This is a development server. Do not use it in a production deployment. Use a production WSGI server instead.\u001b[0m\n",
            " * Running on http://127.0.0.1:5000\n",
            "INFO:werkzeug:\u001b[33mPress CTRL+C to quit\u001b[0m\n"
          ]
        },
        {
          "output_type": "stream",
          "name": "stdout",
          "text": [
            " * Running on http://5e7f-35-230-171-177.ngrok-free.app\n",
            " * Traffic stats available on http://127.0.0.1:4040\n"
          ]
        },
        {
          "output_type": "stream",
          "name": "stderr",
          "text": [
            "INFO:werkzeug:127.0.0.1 - - [27/Apr/2023 16:41:31] \"GET / HTTP/1.1\" 200 -\n",
            "INFO:werkzeug:127.0.0.1 - - [27/Apr/2023 16:41:31] \"\u001b[33mGET /favicon.ico HTTP/1.1\u001b[0m\" 404 -\n",
            "INFO:werkzeug:127.0.0.1 - - [27/Apr/2023 16:41:42] \"POST /recommend HTTP/1.1\" 200 -\n",
            "INFO:werkzeug:127.0.0.1 - - [27/Apr/2023 16:41:54] \"POST /recommend HTTP/1.1\" 200 -\n"
          ]
        }
      ]
    }
  ]
}